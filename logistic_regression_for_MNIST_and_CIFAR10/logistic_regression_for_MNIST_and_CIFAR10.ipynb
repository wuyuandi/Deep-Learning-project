{
 "cells": [
  {
   "cell_type": "markdown",
   "metadata": {},
   "source": [
    "Import and setup some auxiliary functions"
   ]
  },
  {
   "cell_type": "code",
   "execution_count": 1,
   "metadata": {},
   "outputs": [],
   "source": [
    "from tensorflow.contrib.learn.python.learn.datasets.mnist import read_data_sets\n",
    "import numpy as np\n",
    "import timeit\n",
    "from collections import OrderedDict\n",
    "from pprint import pformat\n",
    "import tensorflow as tf\n",
    "\n",
    "\n",
    "def compute_score(acc, min_thres, max_thres):\n",
    "    if acc <= min_thres:\n",
    "        base_score = 0.0\n",
    "    elif acc >= max_thres:\n",
    "        base_score = 100.0\n",
    "    else:\n",
    "        base_score = float(acc - min_thres) / (max_thres - min_thres) \\\n",
    "                     * 100\n",
    "    return base_score\n",
    "\n",
    "\n",
    "def run(algorithm, dataset_name, x_train, y_train, x_valid, y_valid, x_test, y_test):\n",
    "    start = timeit.default_timer()\n",
    "    np.random.seed(0)\n",
    "    predicted_y_test = algorithm(dataset_name, x_train, y_train, x_valid, y_valid, x_test)\n",
    "    np.random.seed()\n",
    "    stop = timeit.default_timer()\n",
    "    run_time = stop - start\n",
    "\n",
    "    y_test = y_test.flatten()\n",
    "    predicted_y_test = np.asarray(predicted_y_test).flatten()\n",
    "\n",
    "    correct_predict = (y_test == predicted_y_test).astype(np.int32).sum()\n",
    "    incorrect_predict = len(y_test) - correct_predict\n",
    "    accuracy = float(correct_predict) / len(y_test)\n",
    "\n",
    "    return (correct_predict, accuracy, run_time)"
   ]
  },
  {
   "cell_type": "markdown",
   "metadata": {},
   "source": [
    "Convenient class for iterating through train set randomly. Onehot convert to convert form for numpy array."
   ]
  },
  {
   "cell_type": "code",
   "execution_count": 2,
   "metadata": {},
   "outputs": [],
   "source": [
    "class DatasetIterator:\n",
    "    def __init__(self, x, y, batch_size):\n",
    "        assert len(x) == len(y)\n",
    "        self.x = x\n",
    "        self.y = y\n",
    "        self.b_sz = batch_size\n",
    "        self.b_pt = 0\n",
    "        self.d_sz = len(x)\n",
    "        self.idx = None\n",
    "        self.randomize()\n",
    "\n",
    "    def randomize(self):\n",
    "        self.idx = np.random.permutation(self.d_sz)\n",
    "        self.b_pt = 0\n",
    "\n",
    "    def next_batch(self):\n",
    "        start = self.b_pt\n",
    "        end = self.b_pt + self.b_sz\n",
    "        idx = self.idx[start:end]\n",
    "        x = self.x[idx]\n",
    "        y = self.y[idx]\n",
    "\n",
    "        self.b_pt += self.b_sz\n",
    "        if self.b_pt >= self.d_sz:\n",
    "            self.randomize()\n",
    "\n",
    "        return x, y\n",
    "\n",
    "\n",
    "def one_hot(a, num_classes):\n",
    "    return np.squeeze(np.eye(num_classes)[a.reshape(-1)])"
   ]
  },
  {
   "cell_type": "markdown",
   "metadata": {},
   "source": [
    "TODO: Implement Logistic Regression here"
   ]
  },
  {
   "cell_type": "code",
   "execution_count": 3,
   "metadata": {},
   "outputs": [],
   "source": [
    "def logistic_regression(dataset_name, x_train, y_train, x_valid, y_valid, x_test):\n",
    "    if dataset_name == \"MNIST\":\n",
    "        pass\n",
    "    elif dataset_name == \"CIFAR10\":\n",
    "        pass\n",
    "    # This is just a random function that return random label\n",
    "    # TODO: implement logistic regression hyper-parameter tuning here\n",
    "    return np.random.randint(max(y_train) + 1, size=len(x_test))"
   ]
  },
  {
   "cell_type": "markdown",
   "metadata": {},
   "source": [
    "Main loop. Run time and total score will be shown below."
   ]
  },
  {
   "cell_type": "code",
   "execution_count": 4,
   "metadata": {},
   "outputs": [
    {
     "name": "stdout",
     "output_type": "stream",
     "text": [
      "WARNING:tensorflow:From <ipython-input-4-253a32ad2dd4>:5: read_data_sets (from tensorflow.contrib.learn.python.learn.datasets.mnist) is deprecated and will be removed in a future version.\n",
      "Instructions for updating:\n",
      "Please use alternatives such as official/mnist/dataset.py from tensorflow/models.\n",
      "WARNING:tensorflow:From /home/nhat/miniconda3/lib/python3.6/site-packages/tensorflow/contrib/learn/python/learn/datasets/mnist.py:260: maybe_download (from tensorflow.contrib.learn.python.learn.datasets.base) is deprecated and will be removed in a future version.\n",
      "Instructions for updating:\n",
      "Please write your own downloading logic.\n",
      "WARNING:tensorflow:From /home/nhat/miniconda3/lib/python3.6/site-packages/tensorflow/contrib/learn/python/learn/datasets/mnist.py:262: extract_images (from tensorflow.contrib.learn.python.learn.datasets.mnist) is deprecated and will be removed in a future version.\n",
      "Instructions for updating:\n",
      "Please use tf.data to implement this functionality.\n",
      "Extracting data/train-images-idx3-ubyte.gz\n",
      "WARNING:tensorflow:From /home/nhat/miniconda3/lib/python3.6/site-packages/tensorflow/contrib/learn/python/learn/datasets/mnist.py:267: extract_labels (from tensorflow.contrib.learn.python.learn.datasets.mnist) is deprecated and will be removed in a future version.\n",
      "Instructions for updating:\n",
      "Please use tf.data to implement this functionality.\n",
      "Extracting data/train-labels-idx1-ubyte.gz\n",
      "Extracting data/t10k-images-idx3-ubyte.gz\n",
      "Extracting data/t10k-labels-idx1-ubyte.gz\n",
      "WARNING:tensorflow:From /home/nhat/miniconda3/lib/python3.6/site-packages/tensorflow/contrib/learn/python/learn/datasets/mnist.py:290: DataSet.__init__ (from tensorflow.contrib.learn.python.learn.datasets.mnist) is deprecated and will be removed in a future version.\n",
      "Instructions for updating:\n",
      "Please use alternatives such as official/mnist/dataset.py from tensorflow/models.\n",
      "\n",
      "Result:\n",
      " OrderedDict([   (   'MNIST',\n",
      "                    OrderedDict([   ('correct_predict', 1009),\n",
      "                                    ('accuracy', 0.1009),\n",
      "                                    ('score', 0.0),\n",
      "                                    ('run_time', 0.004746139980852604)])),\n",
      "                (   'CIFAR10',\n",
      "                    OrderedDict([   ('correct_predict', 1026),\n",
      "                                    ('accuracy', 0.1026),\n",
      "                                    ('score', 0.0),\n",
      "                                    ('run_time', 0.048580538015812635)])),\n",
      "                ('total_score', 0.0)])\n"
     ]
    }
   ],
   "source": [
    "def run_on_dataset(dataset_name):\n",
    "    if dataset_name == \"MNIST\":\n",
    "        min_thres = 0.82\n",
    "        max_thres = 0.92\n",
    "        mnist = read_data_sets('data', one_hot=False)\n",
    "        x_train, y_train = (mnist.train._images, mnist.train._labels)\n",
    "        x_test, y_test = (mnist.test._images, mnist.test.labels)\n",
    "    elif dataset_name == \"CIFAR10\":\n",
    "        min_thres = 0.28\n",
    "        max_thres = 0.38\n",
    "        cifar10 = tf.keras.datasets.cifar10\n",
    "        (x_train, y_train), (x_test, y_test) = cifar10.load_data()\n",
    "    x_valid, y_valid = x_train[-10000:], y_train[-10000:]\n",
    "    x_train, y_train = x_train[:-10000], y_train[:-10000]\n",
    "\n",
    "    correct_predict, accuracy, run_time = run(logistic_regression, dataset_name,\n",
    "                                              x_train, y_train, x_valid, y_valid, x_test, y_test)\n",
    "    score = compute_score(accuracy, min_thres, max_thres)\n",
    "    result = OrderedDict(correct_predict=correct_predict,\n",
    "                         accuracy=accuracy, score=score,\n",
    "                         run_time=run_time)\n",
    "    return result, score\n",
    "\n",
    "\n",
    "def main():\n",
    "    result_all = OrderedDict()\n",
    "    score_weights = [0.5, 0.5]\n",
    "    scores = []\n",
    "    for dataset_name in [\"MNIST\", \"CIFAR10\"]:\n",
    "        result_all[dataset_name], this_score = run_on_dataset(dataset_name)\n",
    "        scores.append(this_score)\n",
    "    total_score = [score * weight for score, weight in zip(scores, score_weights)]\n",
    "    total_score = np.asarray(total_score).sum().item()\n",
    "    result_all['total_score'] = total_score\n",
    "    with open('result.txt', 'w') as f:\n",
    "        f.writelines(pformat(result_all, indent=4))\n",
    "    print(\"\\nResult:\\n\", pformat(result_all, indent=4))\n",
    "\n",
    "\n",
    "main()"
   ]
  },
  {
   "cell_type": "code",
   "execution_count": null,
   "metadata": {},
   "outputs": [],
   "source": []
  }
 ],
 "metadata": {
  "kernelspec": {
   "display_name": "Python 3",
   "language": "python",
   "name": "python3"
  },
  "language_info": {
   "codemirror_mode": {
    "name": "ipython",
    "version": 3
   },
   "file_extension": ".py",
   "mimetype": "text/x-python",
   "name": "python",
   "nbconvert_exporter": "python",
   "pygments_lexer": "ipython3",
   "version": "3.6.4"
  }
 },
 "nbformat": 4,
 "nbformat_minor": 2
}
