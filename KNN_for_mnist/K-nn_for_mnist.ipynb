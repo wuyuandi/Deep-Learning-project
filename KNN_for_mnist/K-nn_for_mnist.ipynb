{
 "cells": [
  {
   "cell_type": "markdown",
   "metadata": {},
   "source": [
    "Import and setup some auxiliary functions"
   ]
  },
  {
   "cell_type": "code",
   "execution_count": 26,
   "metadata": {},
   "outputs": [],
   "source": [
    "from tensorflow.contrib.learn.python.learn.datasets.mnist import read_data_sets\n",
    "import numpy as np\n",
    "import timeit\n",
    "from collections import OrderedDict\n",
    "from pprint import pformat\n",
    "import tensorflow as tf\n",
    "\n",
    "\n",
    "def compute_score(acc, min_thres, max_thres):\n",
    "    if acc <= min_thres:\n",
    "        base_score = 0.0\n",
    "    elif acc >= max_thres:\n",
    "        base_score = 100.0\n",
    "    else:\n",
    "        base_score = float(acc - min_thres) / (max_thres - min_thres) \\\n",
    "            * 100\n",
    "    return base_score\n",
    "\n",
    "\n",
    "def run(algorithm, x_train, y_train, x_test, y_test):\n",
    "    print('Running...')\n",
    "    start = timeit.default_timer()\n",
    "    np.random.seed(0)\n",
    "    predicted_y_test = algorithm(x_train, y_train, x_test)\n",
    "    np.random.seed()\n",
    "    stop = timeit.default_timer()\n",
    "    run_time = stop - start\n",
    "\n",
    "    correct_predict = (y_test\n",
    "                       == predicted_y_test).astype(np.int32).sum()\n",
    "    incorrect_predict = len(y_test) - correct_predict\n",
    "    accuracy = float(correct_predict) / len(y_test)\n",
    "\n",
    "    print('Correct Predict: {}/{} total \\tAccuracy: {:5f} \\tTime: {:2f}'.format(correct_predict,\n",
    "            len(y_test), accuracy, run_time))\n",
    "    return (correct_predict, accuracy, run_time)"
   ]
  },
  {
   "cell_type": "markdown",
   "metadata": {},
   "source": [
    "TODO: Implement knn here"
   ]
  },
  {
   "cell_type": "code",
   "execution_count": 31,
   "metadata": {},
   "outputs": [],
   "source": [
    "def knn(x_train, y_train, x_test):\n",
    "    \"\"\"\n",
    "    x_train: 60000 x 784 matrix: each row is a flattened image of an MNIST digit\n",
    "    y_train: 60000 vector: label for x_train\n",
    "    x_test: 5000 x 784 testing images\n",
    "    return: predicted y_test which is a 5000 vector\n",
    "    \"\"\"\n",
    "    # TODO: Implement knn here\n",
    "    raise NotImplementedError"
   ]
  },
  {
   "cell_type": "markdown",
   "metadata": {},
   "source": [
    "Main loop. You can only run this after filling the knn function above"
   ]
  },
  {
   "cell_type": "code",
   "execution_count": 36,
   "metadata": {},
   "outputs": [
    {
     "name": "stdout",
     "output_type": "stream",
     "text": [
      "Extracting data/train-images-idx3-ubyte.gz\n",
      "Extracting data/train-labels-idx1-ubyte.gz\n",
      "Extracting data/t10k-images-idx3-ubyte.gz\n",
      "Extracting data/t10k-labels-idx1-ubyte.gz\n",
      "Dimension of dataset: \n",
      "Train: (5000, 784) (5000,) \n",
      "Test: (1000, 784) (1000,)\n",
      "Running...\n",
      "(1000,)\n",
      "Correct Predict: 892/1000 total \tAccuracy: 0.892000 \tTime: 7.230949\n",
      "OrderedDict([   ('correct_predict', 892),\n",
      "                ('accuracy', 0.892),\n",
      "                ('score', 52.00000000000006),\n",
      "                ('run_time', 7.230948757962324)])\n"
     ]
    }
   ],
   "source": [
    "min_thres=0.84\n",
    "max_thres=0.94\n",
    "\n",
    "mnist = read_data_sets('data', one_hot=False)\n",
    "result = [OrderedDict(first_name='Insert your First name here',\n",
    "          last_name='Insert your Last name here')]\n",
    "\n",
    "(x_train, y_train) = (mnist.train._images, mnist.train._labels)\n",
    "(x_valid, y_valid) = (mnist.test._images, mnist.test.labels)\n",
    "\n",
    "# You may want to use a smaller training set to save time when debugging\n",
    "# i.e.: Put something like:\n",
    "# (x_train, y_train) = (x_train[:5000], y_train[:5000])\n",
    "\n",
    "# For this assignment, we only test on the first 1000 samples of the test set\n",
    "(x_valid, y_valid) = (x_valid[:1000], y_valid[:1000])\n",
    "\n",
    "print(\"Dimension of dataset: \")\n",
    "print(\"Train:\", x_train.shape, y_train.shape, \"\\nTest:\", x_valid.shape, y_valid.shape)\n",
    "\n",
    "(correct_predict, accuracy, run_time) = run(knn, x_train, y_train, x_valid, y_valid)\n",
    "score = compute_score(accuracy, min_thres, max_thres)\n",
    "result = OrderedDict(correct_predict=correct_predict,\n",
    "                     accuracy=accuracy, score=score,\n",
    "                     run_time=run_time)\n",
    "    \n",
    "with open('result.txt', 'w') as f:\n",
    "    f.writelines(pformat(result, indent=4))\n",
    "\n",
    "print(pformat(result, indent=4))"
   ]
  },
  {
   "cell_type": "code",
   "execution_count": null,
   "metadata": {},
   "outputs": [],
   "source": []
  }
 ],
 "metadata": {
  "kernelspec": {
   "display_name": "Python 3",
   "language": "python",
   "name": "python3"
  },
  "language_info": {
   "codemirror_mode": {
    "name": "ipython",
    "version": 3
   },
   "file_extension": ".py",
   "mimetype": "text/x-python",
   "name": "python",
   "nbconvert_exporter": "python",
   "pygments_lexer": "ipython3",
   "version": "3.6.5"
  }
 },
 "nbformat": 4,
 "nbformat_minor": 2
}
